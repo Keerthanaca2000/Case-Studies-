{
 "cells": [
  {
   "cell_type": "code",
   "execution_count": 51,
   "id": "1001968a",
   "metadata": {},
   "outputs": [],
   "source": [
    "import numpy as np\n",
    "import pandas as pd\n",
    "import matplotlib.pyplot as plt\n",
    "import seaborn as sns"
   ]
  },
  {
   "cell_type": "code",
   "execution_count": 52,
   "id": "a1107b56",
   "metadata": {},
   "outputs": [
    {
     "data": {
      "text/html": [
       "<div>\n",
       "<style scoped>\n",
       "    .dataframe tbody tr th:only-of-type {\n",
       "        vertical-align: middle;\n",
       "    }\n",
       "\n",
       "    .dataframe tbody tr th {\n",
       "        vertical-align: top;\n",
       "    }\n",
       "\n",
       "    .dataframe thead th {\n",
       "        text-align: right;\n",
       "    }\n",
       "</style>\n",
       "<table border=\"1\" class=\"dataframe\">\n",
       "  <thead>\n",
       "    <tr style=\"text-align: right;\">\n",
       "      <th></th>\n",
       "      <th>id</th>\n",
       "      <th>season</th>\n",
       "      <th>city</th>\n",
       "      <th>date</th>\n",
       "      <th>team1</th>\n",
       "      <th>team2</th>\n",
       "      <th>toss_winner</th>\n",
       "      <th>toss_decision</th>\n",
       "      <th>result</th>\n",
       "      <th>dl_applied</th>\n",
       "      <th>winner</th>\n",
       "      <th>win_by_runs</th>\n",
       "      <th>win_by_wickets</th>\n",
       "      <th>player_of_match</th>\n",
       "      <th>venue</th>\n",
       "      <th>umpire1</th>\n",
       "      <th>umpire2</th>\n",
       "      <th>umpire3</th>\n",
       "    </tr>\n",
       "  </thead>\n",
       "  <tbody>\n",
       "    <tr>\n",
       "      <th>0</th>\n",
       "      <td>1</td>\n",
       "      <td>2017</td>\n",
       "      <td>Hyderabad</td>\n",
       "      <td>2017-04-05</td>\n",
       "      <td>Sunrisers Hyderabad</td>\n",
       "      <td>Royal Challengers Bangalore</td>\n",
       "      <td>Royal Challengers Bangalore</td>\n",
       "      <td>field</td>\n",
       "      <td>normal</td>\n",
       "      <td>0</td>\n",
       "      <td>Sunrisers Hyderabad</td>\n",
       "      <td>35</td>\n",
       "      <td>0</td>\n",
       "      <td>Yuvraj Singh</td>\n",
       "      <td>Rajiv Gandhi International Stadium, Uppal</td>\n",
       "      <td>AY Dandekar</td>\n",
       "      <td>NJ Llong</td>\n",
       "      <td>NaN</td>\n",
       "    </tr>\n",
       "    <tr>\n",
       "      <th>1</th>\n",
       "      <td>2</td>\n",
       "      <td>2017</td>\n",
       "      <td>Pune</td>\n",
       "      <td>2017-04-06</td>\n",
       "      <td>Mumbai Indians</td>\n",
       "      <td>Rising Pune Supergiant</td>\n",
       "      <td>Rising Pune Supergiant</td>\n",
       "      <td>field</td>\n",
       "      <td>normal</td>\n",
       "      <td>0</td>\n",
       "      <td>Rising Pune Supergiant</td>\n",
       "      <td>0</td>\n",
       "      <td>7</td>\n",
       "      <td>SPD Smith</td>\n",
       "      <td>Maharashtra Cricket Association Stadium</td>\n",
       "      <td>A Nand Kishore</td>\n",
       "      <td>S Ravi</td>\n",
       "      <td>NaN</td>\n",
       "    </tr>\n",
       "    <tr>\n",
       "      <th>2</th>\n",
       "      <td>3</td>\n",
       "      <td>2017</td>\n",
       "      <td>Rajkot</td>\n",
       "      <td>2017-04-07</td>\n",
       "      <td>Gujarat Lions</td>\n",
       "      <td>Kolkata Knight Riders</td>\n",
       "      <td>Kolkata Knight Riders</td>\n",
       "      <td>field</td>\n",
       "      <td>normal</td>\n",
       "      <td>0</td>\n",
       "      <td>Kolkata Knight Riders</td>\n",
       "      <td>0</td>\n",
       "      <td>10</td>\n",
       "      <td>CA Lynn</td>\n",
       "      <td>Saurashtra Cricket Association Stadium</td>\n",
       "      <td>Nitin Menon</td>\n",
       "      <td>CK Nandan</td>\n",
       "      <td>NaN</td>\n",
       "    </tr>\n",
       "    <tr>\n",
       "      <th>3</th>\n",
       "      <td>4</td>\n",
       "      <td>2017</td>\n",
       "      <td>Indore</td>\n",
       "      <td>2017-04-08</td>\n",
       "      <td>Rising Pune Supergiant</td>\n",
       "      <td>Kings XI Punjab</td>\n",
       "      <td>Kings XI Punjab</td>\n",
       "      <td>field</td>\n",
       "      <td>normal</td>\n",
       "      <td>0</td>\n",
       "      <td>Kings XI Punjab</td>\n",
       "      <td>0</td>\n",
       "      <td>6</td>\n",
       "      <td>GJ Maxwell</td>\n",
       "      <td>Holkar Cricket Stadium</td>\n",
       "      <td>AK Chaudhary</td>\n",
       "      <td>C Shamshuddin</td>\n",
       "      <td>NaN</td>\n",
       "    </tr>\n",
       "    <tr>\n",
       "      <th>4</th>\n",
       "      <td>5</td>\n",
       "      <td>2017</td>\n",
       "      <td>Bangalore</td>\n",
       "      <td>2017-04-08</td>\n",
       "      <td>Royal Challengers Bangalore</td>\n",
       "      <td>Delhi Daredevils</td>\n",
       "      <td>Royal Challengers Bangalore</td>\n",
       "      <td>bat</td>\n",
       "      <td>normal</td>\n",
       "      <td>0</td>\n",
       "      <td>Royal Challengers Bangalore</td>\n",
       "      <td>15</td>\n",
       "      <td>0</td>\n",
       "      <td>KM Jadhav</td>\n",
       "      <td>M Chinnaswamy Stadium</td>\n",
       "      <td>NaN</td>\n",
       "      <td>NaN</td>\n",
       "      <td>NaN</td>\n",
       "    </tr>\n",
       "  </tbody>\n",
       "</table>\n",
       "</div>"
      ],
      "text/plain": [
       "   id  season       city        date                        team1  \\\n",
       "0   1    2017  Hyderabad  2017-04-05          Sunrisers Hyderabad   \n",
       "1   2    2017       Pune  2017-04-06               Mumbai Indians   \n",
       "2   3    2017     Rajkot  2017-04-07                Gujarat Lions   \n",
       "3   4    2017     Indore  2017-04-08       Rising Pune Supergiant   \n",
       "4   5    2017  Bangalore  2017-04-08  Royal Challengers Bangalore   \n",
       "\n",
       "                         team2                  toss_winner toss_decision  \\\n",
       "0  Royal Challengers Bangalore  Royal Challengers Bangalore         field   \n",
       "1       Rising Pune Supergiant       Rising Pune Supergiant         field   \n",
       "2        Kolkata Knight Riders        Kolkata Knight Riders         field   \n",
       "3              Kings XI Punjab              Kings XI Punjab         field   \n",
       "4             Delhi Daredevils  Royal Challengers Bangalore           bat   \n",
       "\n",
       "   result  dl_applied                       winner  win_by_runs  \\\n",
       "0  normal           0          Sunrisers Hyderabad           35   \n",
       "1  normal           0       Rising Pune Supergiant            0   \n",
       "2  normal           0        Kolkata Knight Riders            0   \n",
       "3  normal           0              Kings XI Punjab            0   \n",
       "4  normal           0  Royal Challengers Bangalore           15   \n",
       "\n",
       "   win_by_wickets player_of_match                                      venue  \\\n",
       "0               0    Yuvraj Singh  Rajiv Gandhi International Stadium, Uppal   \n",
       "1               7       SPD Smith    Maharashtra Cricket Association Stadium   \n",
       "2              10         CA Lynn     Saurashtra Cricket Association Stadium   \n",
       "3               6      GJ Maxwell                     Holkar Cricket Stadium   \n",
       "4               0       KM Jadhav                      M Chinnaswamy Stadium   \n",
       "\n",
       "          umpire1        umpire2 umpire3  \n",
       "0     AY Dandekar       NJ Llong     NaN  \n",
       "1  A Nand Kishore         S Ravi     NaN  \n",
       "2     Nitin Menon      CK Nandan     NaN  \n",
       "3    AK Chaudhary  C Shamshuddin     NaN  \n",
       "4             NaN            NaN     NaN  "
      ]
     },
     "execution_count": 52,
     "metadata": {},
     "output_type": "execute_result"
    }
   ],
   "source": [
    "# loading the dataset\n",
    "data=pd.read_csv(\"matches.csv\")\n",
    "data.head()"
   ]
  },
  {
   "cell_type": "code",
   "execution_count": 53,
   "id": "e4a197b9",
   "metadata": {},
   "outputs": [
    {
     "data": {
      "text/html": [
       "<div>\n",
       "<style scoped>\n",
       "    .dataframe tbody tr th:only-of-type {\n",
       "        vertical-align: middle;\n",
       "    }\n",
       "\n",
       "    .dataframe tbody tr th {\n",
       "        vertical-align: top;\n",
       "    }\n",
       "\n",
       "    .dataframe thead th {\n",
       "        text-align: right;\n",
       "    }\n",
       "</style>\n",
       "<table border=\"1\" class=\"dataframe\">\n",
       "  <thead>\n",
       "    <tr style=\"text-align: right;\">\n",
       "      <th></th>\n",
       "      <th>id</th>\n",
       "      <th>season</th>\n",
       "      <th>dl_applied</th>\n",
       "      <th>win_by_runs</th>\n",
       "      <th>win_by_wickets</th>\n",
       "    </tr>\n",
       "  </thead>\n",
       "  <tbody>\n",
       "    <tr>\n",
       "      <th>count</th>\n",
       "      <td>756.000000</td>\n",
       "      <td>756.000000</td>\n",
       "      <td>756.000000</td>\n",
       "      <td>756.000000</td>\n",
       "      <td>756.000000</td>\n",
       "    </tr>\n",
       "    <tr>\n",
       "      <th>mean</th>\n",
       "      <td>1792.178571</td>\n",
       "      <td>2013.444444</td>\n",
       "      <td>0.025132</td>\n",
       "      <td>13.283069</td>\n",
       "      <td>3.350529</td>\n",
       "    </tr>\n",
       "    <tr>\n",
       "      <th>std</th>\n",
       "      <td>3464.478148</td>\n",
       "      <td>3.366895</td>\n",
       "      <td>0.156630</td>\n",
       "      <td>23.471144</td>\n",
       "      <td>3.387963</td>\n",
       "    </tr>\n",
       "    <tr>\n",
       "      <th>min</th>\n",
       "      <td>1.000000</td>\n",
       "      <td>2008.000000</td>\n",
       "      <td>0.000000</td>\n",
       "      <td>0.000000</td>\n",
       "      <td>0.000000</td>\n",
       "    </tr>\n",
       "    <tr>\n",
       "      <th>25%</th>\n",
       "      <td>189.750000</td>\n",
       "      <td>2011.000000</td>\n",
       "      <td>0.000000</td>\n",
       "      <td>0.000000</td>\n",
       "      <td>0.000000</td>\n",
       "    </tr>\n",
       "    <tr>\n",
       "      <th>50%</th>\n",
       "      <td>378.500000</td>\n",
       "      <td>2013.000000</td>\n",
       "      <td>0.000000</td>\n",
       "      <td>0.000000</td>\n",
       "      <td>4.000000</td>\n",
       "    </tr>\n",
       "    <tr>\n",
       "      <th>75%</th>\n",
       "      <td>567.250000</td>\n",
       "      <td>2016.000000</td>\n",
       "      <td>0.000000</td>\n",
       "      <td>19.000000</td>\n",
       "      <td>6.000000</td>\n",
       "    </tr>\n",
       "    <tr>\n",
       "      <th>max</th>\n",
       "      <td>11415.000000</td>\n",
       "      <td>2019.000000</td>\n",
       "      <td>1.000000</td>\n",
       "      <td>146.000000</td>\n",
       "      <td>10.000000</td>\n",
       "    </tr>\n",
       "  </tbody>\n",
       "</table>\n",
       "</div>"
      ],
      "text/plain": [
       "                 id       season  dl_applied  win_by_runs  win_by_wickets\n",
       "count    756.000000   756.000000  756.000000   756.000000      756.000000\n",
       "mean    1792.178571  2013.444444    0.025132    13.283069        3.350529\n",
       "std     3464.478148     3.366895    0.156630    23.471144        3.387963\n",
       "min        1.000000  2008.000000    0.000000     0.000000        0.000000\n",
       "25%      189.750000  2011.000000    0.000000     0.000000        0.000000\n",
       "50%      378.500000  2013.000000    0.000000     0.000000        4.000000\n",
       "75%      567.250000  2016.000000    0.000000    19.000000        6.000000\n",
       "max    11415.000000  2019.000000    1.000000   146.000000       10.000000"
      ]
     },
     "execution_count": 53,
     "metadata": {},
     "output_type": "execute_result"
    }
   ],
   "source": [
    "data.describe()"
   ]
  },
  {
   "cell_type": "code",
   "execution_count": 54,
   "id": "0f71ee96",
   "metadata": {},
   "outputs": [
    {
     "name": "stdout",
     "output_type": "stream",
     "text": [
      "<class 'pandas.core.frame.DataFrame'>\n",
      "RangeIndex: 756 entries, 0 to 755\n",
      "Data columns (total 18 columns):\n",
      " #   Column           Non-Null Count  Dtype \n",
      "---  ------           --------------  ----- \n",
      " 0   id               756 non-null    int64 \n",
      " 1   season           756 non-null    int64 \n",
      " 2   city             749 non-null    object\n",
      " 3   date             756 non-null    object\n",
      " 4   team1            756 non-null    object\n",
      " 5   team2            756 non-null    object\n",
      " 6   toss_winner      756 non-null    object\n",
      " 7   toss_decision    756 non-null    object\n",
      " 8   result           756 non-null    object\n",
      " 9   dl_applied       756 non-null    int64 \n",
      " 10  winner           752 non-null    object\n",
      " 11  win_by_runs      756 non-null    int64 \n",
      " 12  win_by_wickets   756 non-null    int64 \n",
      " 13  player_of_match  752 non-null    object\n",
      " 14  venue            756 non-null    object\n",
      " 15  umpire1          754 non-null    object\n",
      " 16  umpire2          754 non-null    object\n",
      " 17  umpire3          119 non-null    object\n",
      "dtypes: int64(5), object(13)\n",
      "memory usage: 106.4+ KB\n"
     ]
    }
   ],
   "source": [
    "data.info()"
   ]
  },
  {
   "cell_type": "code",
   "execution_count": 55,
   "id": "b99b6469",
   "metadata": {},
   "outputs": [
    {
     "data": {
      "text/plain": [
       "Index(['id', 'season', 'city', 'date', 'team1', 'team2', 'toss_winner',\n",
       "       'toss_decision', 'result', 'dl_applied', 'winner', 'win_by_runs',\n",
       "       'win_by_wickets', 'player_of_match', 'venue', 'umpire1', 'umpire2',\n",
       "       'umpire3'],\n",
       "      dtype='object')"
      ]
     },
     "execution_count": 55,
     "metadata": {},
     "output_type": "execute_result"
    }
   ],
   "source": [
    "data.columns"
   ]
  },
  {
   "cell_type": "code",
   "execution_count": 56,
   "id": "03f3a577",
   "metadata": {},
   "outputs": [
    {
     "name": "stdout",
     "output_type": "stream",
     "text": [
      "756\n"
     ]
    }
   ],
   "source": [
    "print(len(data.axes[0]))"
   ]
  },
  {
   "cell_type": "code",
   "execution_count": 57,
   "id": "7eac650a",
   "metadata": {},
   "outputs": [
    {
     "name": "stdout",
     "output_type": "stream",
     "text": [
      "18\n"
     ]
    }
   ],
   "source": [
    "print(len(data.axes[1]))"
   ]
  },
  {
   "cell_type": "code",
   "execution_count": 58,
   "id": "62188586",
   "metadata": {},
   "outputs": [
    {
     "data": {
      "text/plain": [
       "id                 False\n",
       "season             False\n",
       "city                True\n",
       "date               False\n",
       "team1              False\n",
       "team2              False\n",
       "toss_winner        False\n",
       "toss_decision      False\n",
       "result             False\n",
       "dl_applied         False\n",
       "winner              True\n",
       "win_by_runs        False\n",
       "win_by_wickets     False\n",
       "player_of_match     True\n",
       "venue              False\n",
       "umpire1             True\n",
       "umpire2             True\n",
       "umpire3             True\n",
       "dtype: bool"
      ]
     },
     "execution_count": 58,
     "metadata": {},
     "output_type": "execute_result"
    }
   ],
   "source": [
    "data.isnull().any()"
   ]
  },
  {
   "cell_type": "code",
   "execution_count": 59,
   "id": "a451e7dc",
   "metadata": {},
   "outputs": [
    {
     "data": {
      "text/plain": [
       "Index(['season', 'city', 'team1', 'team2', 'toss_winner', 'toss_decision',\n",
       "       'result', 'winner', 'win_by_runs', 'win_by_wickets', 'player_of_match',\n",
       "       'venue'],\n",
       "      dtype='object')"
      ]
     },
     "execution_count": 59,
     "metadata": {},
     "output_type": "execute_result"
    }
   ],
   "source": [
    "# dropping unwanted columns\n",
    "df=data.drop(['id','date','dl_applied','umpire1','umpire2','umpire3'],axis=1)\n",
    "df.columns"
   ]
  },
  {
   "cell_type": "code",
   "execution_count": 60,
   "id": "834d82ae",
   "metadata": {},
   "outputs": [
    {
     "name": "stdout",
     "output_type": "stream",
     "text": [
      "    city                                venue\n",
      "461  NaN  Dubai International Cricket Stadium\n",
      "462  NaN  Dubai International Cricket Stadium\n",
      "466  NaN  Dubai International Cricket Stadium\n",
      "468  NaN  Dubai International Cricket Stadium\n",
      "469  NaN  Dubai International Cricket Stadium\n",
      "474  NaN  Dubai International Cricket Stadium\n",
      "476  NaN  Dubai International Cricket Stadium\n"
     ]
    }
   ],
   "source": [
    "# checking for ,issing values, venues w.r.t city\n",
    "print(df[df.city.isnull()][['city','venue']])"
   ]
  },
  {
   "cell_type": "code",
   "execution_count": 61,
   "id": "ffa0365f",
   "metadata": {},
   "outputs": [
    {
     "name": "stdout",
     "output_type": "stream",
     "text": [
      "     season           city                        team1  \\\n",
      "0      2017      Hyderabad          Sunrisers Hyderabad   \n",
      "1      2017           Pune               Mumbai Indians   \n",
      "2      2017         Rajkot                Gujarat Lions   \n",
      "3      2017         Indore       Rising Pune Supergiant   \n",
      "4      2017      Bangalore  Royal Challengers Bangalore   \n",
      "..      ...            ...                          ...   \n",
      "751    2019         Mumbai        Kolkata Knight Riders   \n",
      "752    2019        Chennai          Chennai Super Kings   \n",
      "753    2019  Visakhapatnam          Sunrisers Hyderabad   \n",
      "754    2019  Visakhapatnam               Delhi Capitals   \n",
      "755    2019      Hyderabad               Mumbai Indians   \n",
      "\n",
      "                           team2                  toss_winner toss_decision  \\\n",
      "0    Royal Challengers Bangalore  Royal Challengers Bangalore         field   \n",
      "1         Rising Pune Supergiant       Rising Pune Supergiant         field   \n",
      "2          Kolkata Knight Riders        Kolkata Knight Riders         field   \n",
      "3                Kings XI Punjab              Kings XI Punjab         field   \n",
      "4               Delhi Daredevils  Royal Challengers Bangalore           bat   \n",
      "..                           ...                          ...           ...   \n",
      "751               Mumbai Indians               Mumbai Indians         field   \n",
      "752               Mumbai Indians          Chennai Super Kings           bat   \n",
      "753               Delhi Capitals               Delhi Capitals         field   \n",
      "754          Chennai Super Kings          Chennai Super Kings         field   \n",
      "755          Chennai Super Kings               Mumbai Indians           bat   \n",
      "\n",
      "     result                       winner  win_by_runs  win_by_wickets  \\\n",
      "0    normal          Sunrisers Hyderabad           35               0   \n",
      "1    normal       Rising Pune Supergiant            0               7   \n",
      "2    normal        Kolkata Knight Riders            0              10   \n",
      "3    normal              Kings XI Punjab            0               6   \n",
      "4    normal  Royal Challengers Bangalore           15               0   \n",
      "..      ...                          ...          ...             ...   \n",
      "751  normal               Mumbai Indians            0               9   \n",
      "752  normal               Mumbai Indians            0               6   \n",
      "753  normal               Delhi Capitals            0               2   \n",
      "754  normal          Chennai Super Kings            0               6   \n",
      "755  normal               Mumbai Indians            1               0   \n",
      "\n",
      "    player_of_match                                      venue  \n",
      "0      Yuvraj Singh  Rajiv Gandhi International Stadium, Uppal  \n",
      "1         SPD Smith    Maharashtra Cricket Association Stadium  \n",
      "2           CA Lynn     Saurashtra Cricket Association Stadium  \n",
      "3        GJ Maxwell                     Holkar Cricket Stadium  \n",
      "4         KM Jadhav                      M Chinnaswamy Stadium  \n",
      "..              ...                                        ...  \n",
      "751       HH Pandya                           Wankhede Stadium  \n",
      "752        AS Yadav                  M. A. Chidambaram Stadium  \n",
      "753         RR Pant                           ACA-VDCA Stadium  \n",
      "754    F du Plessis                           ACA-VDCA Stadium  \n",
      "755       JJ Bumrah         Rajiv Gandhi Intl. Cricket Stadium  \n",
      "\n",
      "[756 rows x 12 columns]\n"
     ]
    }
   ],
   "source": [
    "df.city = df.city.fillna('Dubai')\n",
    "print(df)"
   ]
  },
  {
   "cell_type": "code",
   "execution_count": 62,
   "id": "25fb863a",
   "metadata": {},
   "outputs": [
    {
     "name": "stdout",
     "output_type": "stream",
     "text": [
      "                                                                   season\n",
      "city           venue                                                     \n",
      "Abu Dhabi      Sheikh Zayed Stadium                                     7\n",
      "Ahmedabad      Sardar Patel Stadium, Motera                            12\n",
      "Bangalore      M Chinnaswamy Stadium                                   66\n",
      "Bengaluru      M Chinnaswamy Stadium                                    7\n",
      "               M. Chinnaswamy Stadium                                   7\n",
      "Bloemfontein   OUTsurance Oval                                          2\n",
      "Cape Town      Newlands                                                 7\n",
      "Centurion      SuperSport Park                                         12\n",
      "Chandigarh     Punjab Cricket Association IS Bindra Stadium, M...      11\n",
      "               Punjab Cricket Association Stadium, Mohali              35\n",
      "Chennai        M. A. Chidambaram Stadium                                8\n",
      "               MA Chidambaram Stadium, Chepauk                         49\n",
      "Cuttack        Barabati Stadium                                         7\n",
      "Delhi          Feroz Shah Kotla                                        67\n",
      "               Feroz Shah Kotla Ground                                  7\n",
      "Dharamsala     Himachal Pradesh Cricket Association Stadium             9\n",
      "Dubai          Dubai International Cricket Stadium                      7\n",
      "Durban         Kingsmead                                               15\n",
      "East London    Buffalo Park                                             3\n",
      "Hyderabad      Rajiv Gandhi International Stadium, Uppal               56\n",
      "               Rajiv Gandhi Intl. Cricket Stadium                       8\n",
      "Indore         Holkar Cricket Stadium                                   9\n",
      "Jaipur         Sawai Mansingh Stadium                                  47\n",
      "Johannesburg   New Wanderers Stadium                                    8\n",
      "Kanpur         Green Park                                               4\n",
      "Kimberley      De Beers Diamond Oval                                    3\n",
      "Kochi          Nehru Stadium                                            5\n",
      "Kolkata        Eden Gardens                                            77\n",
      "Mohali         IS Bindra Stadium                                        7\n",
      "               Punjab Cricket Association IS Bindra Stadium, M...       3\n",
      "Mumbai         Brabourne Stadium                                       11\n",
      "               Dr DY Patil Sports Academy                              17\n",
      "               Wankhede Stadium                                        73\n",
      "Nagpur         Vidarbha Cricket Association Stadium, Jamtha             3\n",
      "Port Elizabeth St George's Park                                         7\n",
      "Pune           Maharashtra Cricket Association Stadium                 21\n",
      "               Subrata Roy Sahara Stadium                              17\n",
      "Raipur         Shaheed Veer Narayan Singh International Stadium         6\n",
      "Rajkot         Saurashtra Cricket Association Stadium                  10\n",
      "Ranchi         JSCA International Stadium Complex                       7\n",
      "Sharjah        Sharjah Cricket Stadium                                  6\n",
      "Visakhapatnam  ACA-VDCA Stadium                                         2\n",
      "               Dr. Y.S. Rajasekhara Reddy ACA-VDCA Cricket Sta...      11\n"
     ]
    }
   ],
   "source": [
    "city_venue = df.groupby(['city','venue']).count()['season']\n",
    "city_venue_df = pd.DataFrame(city_venue)\n",
    "print(city_venue_df)"
   ]
  },
  {
   "cell_type": "code",
   "execution_count": 63,
   "id": "e8ac0f4c",
   "metadata": {},
   "outputs": [
    {
     "data": {
      "text/html": [
       "<div>\n",
       "<style scoped>\n",
       "    .dataframe tbody tr th:only-of-type {\n",
       "        vertical-align: middle;\n",
       "    }\n",
       "\n",
       "    .dataframe tbody tr th {\n",
       "        vertical-align: top;\n",
       "    }\n",
       "\n",
       "    .dataframe thead th {\n",
       "        text-align: right;\n",
       "    }\n",
       "</style>\n",
       "<table border=\"1\" class=\"dataframe\">\n",
       "  <thead>\n",
       "    <tr style=\"text-align: right;\">\n",
       "      <th></th>\n",
       "      <th>season</th>\n",
       "      <th>city</th>\n",
       "      <th>team1</th>\n",
       "      <th>team2</th>\n",
       "      <th>toss_winner</th>\n",
       "      <th>toss_decision</th>\n",
       "      <th>result</th>\n",
       "      <th>winner</th>\n",
       "      <th>win_by_runs</th>\n",
       "      <th>win_by_wickets</th>\n",
       "      <th>player_of_match</th>\n",
       "      <th>venue</th>\n",
       "    </tr>\n",
       "  </thead>\n",
       "  <tbody>\n",
       "    <tr>\n",
       "      <th>0</th>\n",
       "      <td>2017</td>\n",
       "      <td>Hyderabad</td>\n",
       "      <td>Sunrisers Hyderabad</td>\n",
       "      <td>Royal Challengers Bangalore</td>\n",
       "      <td>Royal Challengers Bangalore</td>\n",
       "      <td>field</td>\n",
       "      <td>normal</td>\n",
       "      <td>Sunrisers Hyderabad</td>\n",
       "      <td>35</td>\n",
       "      <td>0</td>\n",
       "      <td>Yuvraj Singh</td>\n",
       "      <td>Rajiv Gandhi International Stadium, Uppal</td>\n",
       "    </tr>\n",
       "    <tr>\n",
       "      <th>1</th>\n",
       "      <td>2017</td>\n",
       "      <td>Pune</td>\n",
       "      <td>Mumbai Indians</td>\n",
       "      <td>Rising Pune Supergiant</td>\n",
       "      <td>Rising Pune Supergiant</td>\n",
       "      <td>field</td>\n",
       "      <td>normal</td>\n",
       "      <td>Rising Pune Supergiant</td>\n",
       "      <td>0</td>\n",
       "      <td>7</td>\n",
       "      <td>SPD Smith</td>\n",
       "      <td>Maharashtra Cricket Association Stadium</td>\n",
       "    </tr>\n",
       "    <tr>\n",
       "      <th>2</th>\n",
       "      <td>2017</td>\n",
       "      <td>Rajkot</td>\n",
       "      <td>Gujarat Lions</td>\n",
       "      <td>Kolkata Knight Riders</td>\n",
       "      <td>Kolkata Knight Riders</td>\n",
       "      <td>field</td>\n",
       "      <td>normal</td>\n",
       "      <td>Kolkata Knight Riders</td>\n",
       "      <td>0</td>\n",
       "      <td>10</td>\n",
       "      <td>CA Lynn</td>\n",
       "      <td>Saurashtra Cricket Association Stadium</td>\n",
       "    </tr>\n",
       "    <tr>\n",
       "      <th>3</th>\n",
       "      <td>2017</td>\n",
       "      <td>Indore</td>\n",
       "      <td>Rising Pune Supergiant</td>\n",
       "      <td>Kings XI Punjab</td>\n",
       "      <td>Kings XI Punjab</td>\n",
       "      <td>field</td>\n",
       "      <td>normal</td>\n",
       "      <td>Kings XI Punjab</td>\n",
       "      <td>0</td>\n",
       "      <td>6</td>\n",
       "      <td>GJ Maxwell</td>\n",
       "      <td>Holkar Cricket Stadium</td>\n",
       "    </tr>\n",
       "    <tr>\n",
       "      <th>4</th>\n",
       "      <td>2017</td>\n",
       "      <td>Bengaluru</td>\n",
       "      <td>Royal Challengers Bangalore</td>\n",
       "      <td>Delhi Daredevils</td>\n",
       "      <td>Royal Challengers Bangalore</td>\n",
       "      <td>bat</td>\n",
       "      <td>normal</td>\n",
       "      <td>Royal Challengers Bangalore</td>\n",
       "      <td>15</td>\n",
       "      <td>0</td>\n",
       "      <td>KM Jadhav</td>\n",
       "      <td>M. Chinnaswamy Stadium</td>\n",
       "    </tr>\n",
       "    <tr>\n",
       "      <th>...</th>\n",
       "      <td>...</td>\n",
       "      <td>...</td>\n",
       "      <td>...</td>\n",
       "      <td>...</td>\n",
       "      <td>...</td>\n",
       "      <td>...</td>\n",
       "      <td>...</td>\n",
       "      <td>...</td>\n",
       "      <td>...</td>\n",
       "      <td>...</td>\n",
       "      <td>...</td>\n",
       "      <td>...</td>\n",
       "    </tr>\n",
       "    <tr>\n",
       "      <th>751</th>\n",
       "      <td>2019</td>\n",
       "      <td>Mumbai</td>\n",
       "      <td>Kolkata Knight Riders</td>\n",
       "      <td>Mumbai Indians</td>\n",
       "      <td>Mumbai Indians</td>\n",
       "      <td>field</td>\n",
       "      <td>normal</td>\n",
       "      <td>Mumbai Indians</td>\n",
       "      <td>0</td>\n",
       "      <td>9</td>\n",
       "      <td>HH Pandya</td>\n",
       "      <td>Wankhede Stadium</td>\n",
       "    </tr>\n",
       "    <tr>\n",
       "      <th>752</th>\n",
       "      <td>2019</td>\n",
       "      <td>Chennai</td>\n",
       "      <td>Chennai Super Kings</td>\n",
       "      <td>Mumbai Indians</td>\n",
       "      <td>Chennai Super Kings</td>\n",
       "      <td>bat</td>\n",
       "      <td>normal</td>\n",
       "      <td>Mumbai Indians</td>\n",
       "      <td>0</td>\n",
       "      <td>6</td>\n",
       "      <td>AS Yadav</td>\n",
       "      <td>MA Chidambaram Stadium, Chepauk</td>\n",
       "    </tr>\n",
       "    <tr>\n",
       "      <th>753</th>\n",
       "      <td>2019</td>\n",
       "      <td>Visakhapatnam</td>\n",
       "      <td>Sunrisers Hyderabad</td>\n",
       "      <td>Delhi Capitals</td>\n",
       "      <td>Delhi Capitals</td>\n",
       "      <td>field</td>\n",
       "      <td>normal</td>\n",
       "      <td>Delhi Capitals</td>\n",
       "      <td>0</td>\n",
       "      <td>2</td>\n",
       "      <td>RR Pant</td>\n",
       "      <td>Dr. Y.S. Rajasekhara Reddy ACA-VDCA Cricket St...</td>\n",
       "    </tr>\n",
       "    <tr>\n",
       "      <th>754</th>\n",
       "      <td>2019</td>\n",
       "      <td>Visakhapatnam</td>\n",
       "      <td>Delhi Capitals</td>\n",
       "      <td>Chennai Super Kings</td>\n",
       "      <td>Chennai Super Kings</td>\n",
       "      <td>field</td>\n",
       "      <td>normal</td>\n",
       "      <td>Chennai Super Kings</td>\n",
       "      <td>0</td>\n",
       "      <td>6</td>\n",
       "      <td>F du Plessis</td>\n",
       "      <td>Dr. Y.S. Rajasekhara Reddy ACA-VDCA Cricket St...</td>\n",
       "    </tr>\n",
       "    <tr>\n",
       "      <th>755</th>\n",
       "      <td>2019</td>\n",
       "      <td>Hyderabad</td>\n",
       "      <td>Mumbai Indians</td>\n",
       "      <td>Chennai Super Kings</td>\n",
       "      <td>Mumbai Indians</td>\n",
       "      <td>bat</td>\n",
       "      <td>normal</td>\n",
       "      <td>Mumbai Indians</td>\n",
       "      <td>1</td>\n",
       "      <td>0</td>\n",
       "      <td>JJ Bumrah</td>\n",
       "      <td>Rajiv Gandhi International Stadium</td>\n",
       "    </tr>\n",
       "  </tbody>\n",
       "</table>\n",
       "<p>756 rows × 12 columns</p>\n",
       "</div>"
      ],
      "text/plain": [
       "     season           city                        team1  \\\n",
       "0      2017      Hyderabad          Sunrisers Hyderabad   \n",
       "1      2017           Pune               Mumbai Indians   \n",
       "2      2017         Rajkot                Gujarat Lions   \n",
       "3      2017         Indore       Rising Pune Supergiant   \n",
       "4      2017      Bengaluru  Royal Challengers Bangalore   \n",
       "..      ...            ...                          ...   \n",
       "751    2019         Mumbai        Kolkata Knight Riders   \n",
       "752    2019        Chennai          Chennai Super Kings   \n",
       "753    2019  Visakhapatnam          Sunrisers Hyderabad   \n",
       "754    2019  Visakhapatnam               Delhi Capitals   \n",
       "755    2019      Hyderabad               Mumbai Indians   \n",
       "\n",
       "                           team2                  toss_winner toss_decision  \\\n",
       "0    Royal Challengers Bangalore  Royal Challengers Bangalore         field   \n",
       "1         Rising Pune Supergiant       Rising Pune Supergiant         field   \n",
       "2          Kolkata Knight Riders        Kolkata Knight Riders         field   \n",
       "3                Kings XI Punjab              Kings XI Punjab         field   \n",
       "4               Delhi Daredevils  Royal Challengers Bangalore           bat   \n",
       "..                           ...                          ...           ...   \n",
       "751               Mumbai Indians               Mumbai Indians         field   \n",
       "752               Mumbai Indians          Chennai Super Kings           bat   \n",
       "753               Delhi Capitals               Delhi Capitals         field   \n",
       "754          Chennai Super Kings          Chennai Super Kings         field   \n",
       "755          Chennai Super Kings               Mumbai Indians           bat   \n",
       "\n",
       "     result                       winner  win_by_runs  win_by_wickets  \\\n",
       "0    normal          Sunrisers Hyderabad           35               0   \n",
       "1    normal       Rising Pune Supergiant            0               7   \n",
       "2    normal        Kolkata Knight Riders            0              10   \n",
       "3    normal              Kings XI Punjab            0               6   \n",
       "4    normal  Royal Challengers Bangalore           15               0   \n",
       "..      ...                          ...          ...             ...   \n",
       "751  normal               Mumbai Indians            0               9   \n",
       "752  normal               Mumbai Indians            0               6   \n",
       "753  normal               Delhi Capitals            0               2   \n",
       "754  normal          Chennai Super Kings            0               6   \n",
       "755  normal               Mumbai Indians            1               0   \n",
       "\n",
       "    player_of_match                                              venue  \n",
       "0      Yuvraj Singh          Rajiv Gandhi International Stadium, Uppal  \n",
       "1         SPD Smith            Maharashtra Cricket Association Stadium  \n",
       "2           CA Lynn             Saurashtra Cricket Association Stadium  \n",
       "3        GJ Maxwell                             Holkar Cricket Stadium  \n",
       "4         KM Jadhav                             M. Chinnaswamy Stadium  \n",
       "..              ...                                                ...  \n",
       "751       HH Pandya                                   Wankhede Stadium  \n",
       "752        AS Yadav                    MA Chidambaram Stadium, Chepauk  \n",
       "753         RR Pant  Dr. Y.S. Rajasekhara Reddy ACA-VDCA Cricket St...  \n",
       "754    F du Plessis  Dr. Y.S. Rajasekhara Reddy ACA-VDCA Cricket St...  \n",
       "755       JJ Bumrah                 Rajiv Gandhi International Stadium  \n",
       "\n",
       "[756 rows x 12 columns]"
      ]
     },
     "execution_count": 63,
     "metadata": {},
     "output_type": "execute_result"
    }
   ],
   "source": [
    "# replacing duplicate entries\n",
    "df=df.replace(\"Bangalore\",\"Bengaluru\")\n",
    "df=df.replace(\"M Chinnaswamy Stadium\",\"M. Chinnaswamy Stadium\")\n",
    "df=df.replace(\"Punjab Cricket Association Stadium, Mohali\",\"Punjab Cricket Association\")\n",
    "df=df.replace(\"M. A. Chidambaram Stadium\",\"MA Chidambaram Stadium, Chepauk\")\n",
    "df=df.replace(\"Feroz Shah Kotla\",\"Feroz Shah Kotla Ground\")\n",
    "df=df.replace(\"Rajiv Gandhi Intl. Cricket Stadium\",\"Rajiv Gandhi International Stadium\")\n",
    "df=df.replace(\"IS Bindra Stadium\",\"Punjab Cricket Association IS Bindra Stadium, Mohali\")\n",
    "df=df.replace(\"ACA-VDCA Stadium\",\"Dr. Y.S. Rajasekhara Reddy ACA-VDCA Cricket Stadium\")\n",
    "df=df.replace(\"Mohali\",\"Chandigarh\")\n",
    "df"
   ]
  },
  {
   "cell_type": "code",
   "execution_count": 64,
   "id": "60f452c4",
   "metadata": {},
   "outputs": [
    {
     "data": {
      "text/html": [
       "<div>\n",
       "<style scoped>\n",
       "    .dataframe tbody tr th:only-of-type {\n",
       "        vertical-align: middle;\n",
       "    }\n",
       "\n",
       "    .dataframe tbody tr th {\n",
       "        vertical-align: top;\n",
       "    }\n",
       "\n",
       "    .dataframe thead th {\n",
       "        text-align: right;\n",
       "    }\n",
       "</style>\n",
       "<table border=\"1\" class=\"dataframe\">\n",
       "  <thead>\n",
       "    <tr style=\"text-align: right;\">\n",
       "      <th></th>\n",
       "      <th></th>\n",
       "      <th>season</th>\n",
       "    </tr>\n",
       "    <tr>\n",
       "      <th>city</th>\n",
       "      <th>venue</th>\n",
       "      <th></th>\n",
       "    </tr>\n",
       "  </thead>\n",
       "  <tbody>\n",
       "    <tr>\n",
       "      <th>Abu Dhabi</th>\n",
       "      <th>Sheikh Zayed Stadium</th>\n",
       "      <td>7</td>\n",
       "    </tr>\n",
       "    <tr>\n",
       "      <th>Ahmedabad</th>\n",
       "      <th>Sardar Patel Stadium, Motera</th>\n",
       "      <td>12</td>\n",
       "    </tr>\n",
       "    <tr>\n",
       "      <th>Bengaluru</th>\n",
       "      <th>M. Chinnaswamy Stadium</th>\n",
       "      <td>80</td>\n",
       "    </tr>\n",
       "    <tr>\n",
       "      <th>Bloemfontein</th>\n",
       "      <th>OUTsurance Oval</th>\n",
       "      <td>2</td>\n",
       "    </tr>\n",
       "    <tr>\n",
       "      <th>Cape Town</th>\n",
       "      <th>Newlands</th>\n",
       "      <td>7</td>\n",
       "    </tr>\n",
       "    <tr>\n",
       "      <th>Centurion</th>\n",
       "      <th>SuperSport Park</th>\n",
       "      <td>12</td>\n",
       "    </tr>\n",
       "    <tr>\n",
       "      <th rowspan=\"2\" valign=\"top\">Chandigarh</th>\n",
       "      <th>Punjab Cricket Association</th>\n",
       "      <td>35</td>\n",
       "    </tr>\n",
       "    <tr>\n",
       "      <th>Punjab Cricket Association IS Bindra Stadium, Mohali</th>\n",
       "      <td>21</td>\n",
       "    </tr>\n",
       "    <tr>\n",
       "      <th>Chennai</th>\n",
       "      <th>MA Chidambaram Stadium, Chepauk</th>\n",
       "      <td>57</td>\n",
       "    </tr>\n",
       "    <tr>\n",
       "      <th>Cuttack</th>\n",
       "      <th>Barabati Stadium</th>\n",
       "      <td>7</td>\n",
       "    </tr>\n",
       "    <tr>\n",
       "      <th>Delhi</th>\n",
       "      <th>Feroz Shah Kotla Ground</th>\n",
       "      <td>74</td>\n",
       "    </tr>\n",
       "    <tr>\n",
       "      <th>Dharamsala</th>\n",
       "      <th>Himachal Pradesh Cricket Association Stadium</th>\n",
       "      <td>9</td>\n",
       "    </tr>\n",
       "    <tr>\n",
       "      <th>Dubai</th>\n",
       "      <th>Dubai International Cricket Stadium</th>\n",
       "      <td>7</td>\n",
       "    </tr>\n",
       "    <tr>\n",
       "      <th>Durban</th>\n",
       "      <th>Kingsmead</th>\n",
       "      <td>15</td>\n",
       "    </tr>\n",
       "    <tr>\n",
       "      <th>East London</th>\n",
       "      <th>Buffalo Park</th>\n",
       "      <td>3</td>\n",
       "    </tr>\n",
       "    <tr>\n",
       "      <th rowspan=\"2\" valign=\"top\">Hyderabad</th>\n",
       "      <th>Rajiv Gandhi International Stadium</th>\n",
       "      <td>8</td>\n",
       "    </tr>\n",
       "    <tr>\n",
       "      <th>Rajiv Gandhi International Stadium, Uppal</th>\n",
       "      <td>56</td>\n",
       "    </tr>\n",
       "    <tr>\n",
       "      <th>Indore</th>\n",
       "      <th>Holkar Cricket Stadium</th>\n",
       "      <td>9</td>\n",
       "    </tr>\n",
       "    <tr>\n",
       "      <th>Jaipur</th>\n",
       "      <th>Sawai Mansingh Stadium</th>\n",
       "      <td>47</td>\n",
       "    </tr>\n",
       "    <tr>\n",
       "      <th>Johannesburg</th>\n",
       "      <th>New Wanderers Stadium</th>\n",
       "      <td>8</td>\n",
       "    </tr>\n",
       "    <tr>\n",
       "      <th>Kanpur</th>\n",
       "      <th>Green Park</th>\n",
       "      <td>4</td>\n",
       "    </tr>\n",
       "    <tr>\n",
       "      <th>Kimberley</th>\n",
       "      <th>De Beers Diamond Oval</th>\n",
       "      <td>3</td>\n",
       "    </tr>\n",
       "    <tr>\n",
       "      <th>Kochi</th>\n",
       "      <th>Nehru Stadium</th>\n",
       "      <td>5</td>\n",
       "    </tr>\n",
       "    <tr>\n",
       "      <th>Kolkata</th>\n",
       "      <th>Eden Gardens</th>\n",
       "      <td>77</td>\n",
       "    </tr>\n",
       "    <tr>\n",
       "      <th rowspan=\"3\" valign=\"top\">Mumbai</th>\n",
       "      <th>Brabourne Stadium</th>\n",
       "      <td>11</td>\n",
       "    </tr>\n",
       "    <tr>\n",
       "      <th>Dr DY Patil Sports Academy</th>\n",
       "      <td>17</td>\n",
       "    </tr>\n",
       "    <tr>\n",
       "      <th>Wankhede Stadium</th>\n",
       "      <td>73</td>\n",
       "    </tr>\n",
       "    <tr>\n",
       "      <th>Nagpur</th>\n",
       "      <th>Vidarbha Cricket Association Stadium, Jamtha</th>\n",
       "      <td>3</td>\n",
       "    </tr>\n",
       "    <tr>\n",
       "      <th>Port Elizabeth</th>\n",
       "      <th>St George's Park</th>\n",
       "      <td>7</td>\n",
       "    </tr>\n",
       "    <tr>\n",
       "      <th rowspan=\"2\" valign=\"top\">Pune</th>\n",
       "      <th>Maharashtra Cricket Association Stadium</th>\n",
       "      <td>21</td>\n",
       "    </tr>\n",
       "    <tr>\n",
       "      <th>Subrata Roy Sahara Stadium</th>\n",
       "      <td>17</td>\n",
       "    </tr>\n",
       "    <tr>\n",
       "      <th>Raipur</th>\n",
       "      <th>Shaheed Veer Narayan Singh International Stadium</th>\n",
       "      <td>6</td>\n",
       "    </tr>\n",
       "    <tr>\n",
       "      <th>Rajkot</th>\n",
       "      <th>Saurashtra Cricket Association Stadium</th>\n",
       "      <td>10</td>\n",
       "    </tr>\n",
       "    <tr>\n",
       "      <th>Ranchi</th>\n",
       "      <th>JSCA International Stadium Complex</th>\n",
       "      <td>7</td>\n",
       "    </tr>\n",
       "    <tr>\n",
       "      <th>Sharjah</th>\n",
       "      <th>Sharjah Cricket Stadium</th>\n",
       "      <td>6</td>\n",
       "    </tr>\n",
       "    <tr>\n",
       "      <th>Visakhapatnam</th>\n",
       "      <th>Dr. Y.S. Rajasekhara Reddy ACA-VDCA Cricket Stadium</th>\n",
       "      <td>13</td>\n",
       "    </tr>\n",
       "  </tbody>\n",
       "</table>\n",
       "</div>"
      ],
      "text/plain": [
       "                                                                   season\n",
       "city           venue                                                     \n",
       "Abu Dhabi      Sheikh Zayed Stadium                                     7\n",
       "Ahmedabad      Sardar Patel Stadium, Motera                            12\n",
       "Bengaluru      M. Chinnaswamy Stadium                                  80\n",
       "Bloemfontein   OUTsurance Oval                                          2\n",
       "Cape Town      Newlands                                                 7\n",
       "Centurion      SuperSport Park                                         12\n",
       "Chandigarh     Punjab Cricket Association                              35\n",
       "               Punjab Cricket Association IS Bindra Stadium, M...      21\n",
       "Chennai        MA Chidambaram Stadium, Chepauk                         57\n",
       "Cuttack        Barabati Stadium                                         7\n",
       "Delhi          Feroz Shah Kotla Ground                                 74\n",
       "Dharamsala     Himachal Pradesh Cricket Association Stadium             9\n",
       "Dubai          Dubai International Cricket Stadium                      7\n",
       "Durban         Kingsmead                                               15\n",
       "East London    Buffalo Park                                             3\n",
       "Hyderabad      Rajiv Gandhi International Stadium                       8\n",
       "               Rajiv Gandhi International Stadium, Uppal               56\n",
       "Indore         Holkar Cricket Stadium                                   9\n",
       "Jaipur         Sawai Mansingh Stadium                                  47\n",
       "Johannesburg   New Wanderers Stadium                                    8\n",
       "Kanpur         Green Park                                               4\n",
       "Kimberley      De Beers Diamond Oval                                    3\n",
       "Kochi          Nehru Stadium                                            5\n",
       "Kolkata        Eden Gardens                                            77\n",
       "Mumbai         Brabourne Stadium                                       11\n",
       "               Dr DY Patil Sports Academy                              17\n",
       "               Wankhede Stadium                                        73\n",
       "Nagpur         Vidarbha Cricket Association Stadium, Jamtha             3\n",
       "Port Elizabeth St George's Park                                         7\n",
       "Pune           Maharashtra Cricket Association Stadium                 21\n",
       "               Subrata Roy Sahara Stadium                              17\n",
       "Raipur         Shaheed Veer Narayan Singh International Stadium         6\n",
       "Rajkot         Saurashtra Cricket Association Stadium                  10\n",
       "Ranchi         JSCA International Stadium Complex                       7\n",
       "Sharjah        Sharjah Cricket Stadium                                  6\n",
       "Visakhapatnam  Dr. Y.S. Rajasekhara Reddy ACA-VDCA Cricket Sta...      13"
      ]
     },
     "execution_count": 64,
     "metadata": {},
     "output_type": "execute_result"
    }
   ],
   "source": [
    "# Dataset grouped by city and venue\n",
    "city_venue1 = df.groupby(['city','venue']).count()['season']\n",
    "city_venue_df_1 = pd.DataFrame(city_venue1)\n",
    "city_venue_df_1"
   ]
  },
  {
   "cell_type": "code",
   "execution_count": 65,
   "id": "4ecabfb7",
   "metadata": {},
   "outputs": [
    {
     "data": {
      "text/plain": [
       "Mumbai Indians                 109\n",
       "Chennai Super Kings            100\n",
       "Kolkata Knight Riders           92\n",
       "Royal Challengers Bangalore     84\n",
       "Kings XI Punjab                 82\n",
       "Rajasthan Royals                75\n",
       "Delhi Daredevils                67\n",
       "Sunrisers Hyderabad             58\n",
       "Deccan Chargers                 29\n",
       "Gujarat Lions                   13\n",
       "Pune Warriors                   12\n",
       "Rising Pune Supergiant          10\n",
       "Delhi Capitals                  10\n",
       "Kochi Tuskers Kerala             6\n",
       "Rising Pune Supergiants          5\n",
       "Name: winner, dtype: int64"
      ]
     },
     "execution_count": 65,
     "metadata": {},
     "output_type": "execute_result"
    }
   ],
   "source": [
    "# Number of wins for each team\n",
    "number_of_wins_for_each_team=df['winner'].value_counts()\n",
    "number_of_wins_for_each_team"
   ]
  },
  {
   "cell_type": "code",
   "execution_count": 66,
   "id": "2aacab83",
   "metadata": {},
   "outputs": [
    {
     "data": {
      "text/plain": [
       "<AxesSubplot:>"
      ]
     },
     "execution_count": 66,
     "metadata": {},
     "output_type": "execute_result"
    },
    {
     "data": {
      "image/png": "[encoded data removed]",
      "text/plain": [
       "<Figure size 432x288 with 1 Axes>"
      ]
     },
     "metadata": {
      "needs_background": "light"
     },
     "output_type": "display_data"
    }
   ],
   "source": [
    "number_of_wins_for_each_team.plot(kind='bar')"
   ]
  },
  {
   "cell_type": "code",
   "execution_count": 67,
   "id": "d7ae1a05",
   "metadata": {},
   "outputs": [
    {
     "data": {
      "text/plain": [
       "Mumbai            101\n",
       "Bengaluru          80\n",
       "Kolkata            77\n",
       "Delhi              74\n",
       "Hyderabad          64\n",
       "Chennai            57\n",
       "Chandigarh         56\n",
       "Jaipur             47\n",
       "Pune               38\n",
       "Durban             15\n",
       "Visakhapatnam      13\n",
       "Ahmedabad          12\n",
       "Centurion          12\n",
       "Rajkot             10\n",
       "Dharamsala          9\n",
       "Indore              9\n",
       "Johannesburg        8\n",
       "Port Elizabeth      7\n",
       "Cape Town           7\n",
       "Abu Dhabi           7\n",
       "Ranchi              7\n",
       "Dubai               7\n",
       "Cuttack             7\n",
       "Raipur              6\n",
       "Sharjah             6\n",
       "Kochi               5\n",
       "Kanpur              4\n",
       "Kimberley           3\n",
       "East London         3\n",
       "Nagpur              3\n",
       "Bloemfontein        2\n",
       "Name: city, dtype: int64"
      ]
     },
     "execution_count": 67,
     "metadata": {},
     "output_type": "execute_result"
    }
   ],
   "source": [
    "# city has hosted maximum number ipl matches\n",
    "max_matches_in_cities=df['city'].value_counts()\n",
    "max_matches_in_cities"
   ]
  },
  {
   "cell_type": "code",
   "execution_count": 68,
   "id": "7422aee5",
   "metadata": {},
   "outputs": [
    {
     "data": {
      "text/plain": [
       "<AxesSubplot:>"
      ]
     },
     "execution_count": 68,
     "metadata": {},
     "output_type": "execute_result"
    },
    {
     "data": {
      "image/png": "[encoded data removed]",
      "text/plain": [
       "<Figure size 432x288 with 1 Axes>"
      ]
     },
     "metadata": {
      "needs_background": "light"
     },
     "output_type": "display_data"
    }
   ],
   "source": [
    "max_matches_in_cities.plot(kind='bar')"
   ]
  },
  {
   "cell_type": "code",
   "execution_count": 69,
   "id": "2b22e383",
   "metadata": {},
   "outputs": [
    {
     "data": {
      "text/plain": [
       "2013    76\n",
       "2012    74\n",
       "2011    73\n",
       "2010    60\n",
       "2014    60\n",
       "2016    60\n",
       "2018    60\n",
       "2019    60\n",
       "2017    59\n",
       "2015    59\n",
       "2008    58\n",
       "2009    57\n",
       "Name: season, dtype: int64"
      ]
     },
     "execution_count": 69,
     "metadata": {},
     "output_type": "execute_result"
    }
   ],
   "source": [
    "# number of matches played in each year\n",
    "matches_in_each_year=data['season'].value_counts()\n",
    "matches_in_each_year"
   ]
  },
  {
   "cell_type": "code",
   "execution_count": 70,
   "id": "41b7afc3",
   "metadata": {},
   "outputs": [
    {
     "data": {
      "text/plain": [
       "<AxesSubplot:>"
      ]
     },
     "execution_count": 70,
     "metadata": {},
     "output_type": "execute_result"
    },
    {
     "data": {
      "image/png": "[encoded data removed]",
      "text/plain": [
       "<Figure size 432x288 with 1 Axes>"
      ]
     },
     "metadata": {
      "needs_background": "light"
     },
     "output_type": "display_data"
    }
   ],
   "source": [
    "matches_in_each_year.plot(kind='bar')"
   ]
  },
  {
   "cell_type": "code",
   "execution_count": 71,
   "id": "04f2369f",
   "metadata": {},
   "outputs": [
    {
     "data": {
      "text/plain": [
       "CH Gayle          21\n",
       "AB de Villiers    20\n",
       "RG Sharma         17\n",
       "MS Dhoni          17\n",
       "DA Warner         17\n",
       "YK Pathan         16\n",
       "SR Watson         15\n",
       "SK Raina          14\n",
       "G Gambhir         13\n",
       "MEK Hussey        12\n",
       "Name: player_of_match, dtype: int64"
      ]
     },
     "execution_count": 71,
     "metadata": {},
     "output_type": "execute_result"
    }
   ],
   "source": [
    "# Number of 'man of the match award' getting each players\n",
    "man_of_the_match=df['player_of_match'].value_counts().head(10)\n",
    "man_of_the_match"
   ]
  },
  {
   "cell_type": "code",
   "execution_count": 72,
   "id": "dc6c3656",
   "metadata": {},
   "outputs": [
    {
     "data": {
      "text/plain": [
       "<AxesSubplot:>"
      ]
     },
     "execution_count": 72,
     "metadata": {},
     "output_type": "execute_result"
    },
    {
     "data": {
      "image/png": "[encoded data removed]",
      "text/plain": [
       "<Figure size 432x288 with 1 Axes>"
      ]
     },
     "metadata": {
      "needs_background": "light"
     },
     "output_type": "display_data"
    }
   ],
   "source": [
    "man_of_the_match.plot(kind='bar')"
   ]
  },
  {
   "cell_type": "code",
   "execution_count": 73,
   "id": "755476e8",
   "metadata": {},
   "outputs": [
    {
     "data": {
      "text/plain": [
       "'Sunrisers Hyderabad'"
      ]
     },
     "execution_count": 73,
     "metadata": {},
     "output_type": "execute_result"
    }
   ],
   "source": [
    "# Most toss winning team\n",
    "df['toss_winner'].max()"
   ]
  },
  {
   "cell_type": "code",
   "execution_count": 74,
   "id": "2958864f",
   "metadata": {},
   "outputs": [
    {
     "data": {
      "text/plain": [
       "'Chennai Super Kings'"
      ]
     },
     "execution_count": 74,
     "metadata": {},
     "output_type": "execute_result"
    }
   ],
   "source": [
    "# Least toss winnig team\n",
    "df['toss_winner'].min()"
   ]
  },
  {
   "cell_type": "code",
   "execution_count": 75,
   "id": "f4ea55f3",
   "metadata": {},
   "outputs": [
    {
     "data": {
      "text/plain": [
       "array([2017, 2008, 2009, 2010, 2011, 2012, 2013, 2014, 2015, 2016, 2018,\n",
       "       2019], dtype=int64)"
      ]
     },
     "execution_count": 75,
     "metadata": {},
     "output_type": "execute_result"
    }
   ],
   "source": [
    "# seasons\n",
    "df['season'].unique()"
   ]
  },
  {
   "cell_type": "code",
   "execution_count": 76,
   "id": "f058e9d5",
   "metadata": {},
   "outputs": [
    {
     "data": {
      "text/html": [
       "<div>\n",
       "<style scoped>\n",
       "    .dataframe tbody tr th:only-of-type {\n",
       "        vertical-align: middle;\n",
       "    }\n",
       "\n",
       "    .dataframe tbody tr th {\n",
       "        vertical-align: top;\n",
       "    }\n",
       "\n",
       "    .dataframe thead th {\n",
       "        text-align: right;\n",
       "    }\n",
       "</style>\n",
       "<table border=\"1\" class=\"dataframe\">\n",
       "  <thead>\n",
       "    <tr style=\"text-align: right;\">\n",
       "      <th></th>\n",
       "      <th>winner</th>\n",
       "      <th>win_by_runs</th>\n",
       "      <th>counts</th>\n",
       "    </tr>\n",
       "  </thead>\n",
       "  <tbody>\n",
       "    <tr>\n",
       "      <th>184</th>\n",
       "      <td>Mumbai Indians</td>\n",
       "      <td>146</td>\n",
       "      <td>1</td>\n",
       "    </tr>\n",
       "    <tr>\n",
       "      <th>252</th>\n",
       "      <td>Royal Challengers Bangalore</td>\n",
       "      <td>144</td>\n",
       "      <td>1</td>\n",
       "    </tr>\n",
       "    <tr>\n",
       "      <th>146</th>\n",
       "      <td>Kolkata Knight Riders</td>\n",
       "      <td>140</td>\n",
       "      <td>1</td>\n",
       "    </tr>\n",
       "    <tr>\n",
       "      <th>251</th>\n",
       "      <td>Royal Challengers Bangalore</td>\n",
       "      <td>138</td>\n",
       "      <td>1</td>\n",
       "    </tr>\n",
       "    <tr>\n",
       "      <th>250</th>\n",
       "      <td>Royal Challengers Bangalore</td>\n",
       "      <td>130</td>\n",
       "      <td>1</td>\n",
       "    </tr>\n",
       "  </tbody>\n",
       "</table>\n",
       "</div>"
      ],
      "text/plain": [
       "                          winner  win_by_runs  counts\n",
       "184               Mumbai Indians          146       1\n",
       "252  Royal Challengers Bangalore          144       1\n",
       "146        Kolkata Knight Riders          140       1\n",
       "251  Royal Challengers Bangalore          138       1\n",
       "250  Royal Challengers Bangalore          130       1"
      ]
     },
     "execution_count": 76,
     "metadata": {},
     "output_type": "execute_result"
    }
   ],
   "source": [
    "# Team won by most run\n",
    "df.iloc[df['win_by_runs'].idxmax()]['winner']\n",
    "counts=df.groupby(['winner','win_by_runs']).size().reset_index(name='counts')\n",
    "counts_sort=counts.sort_values('win_by_runs',ascending=False)\n",
    "first_5_win_by_runs=counts_sort.head(5)\n",
    "first_5_win_by_runs"
   ]
  },
  {
   "cell_type": "code",
   "execution_count": 77,
   "id": "10b56b94",
   "metadata": {},
   "outputs": [
    {
     "data": {
      "text/plain": [
       "<AxesSubplot:title={'center':'Winners by runs'}, xlabel='winner'>"
      ]
     },
     "execution_count": 77,
     "metadata": {},
     "output_type": "execute_result"
    },
    {
     "data": {
      "image/png": "[encoded data removed]",
      "text/plain": [
       "<Figure size 432x288 with 1 Axes>"
      ]
     },
     "metadata": {
      "needs_background": "light"
     },
     "output_type": "display_data"
    }
   ],
   "source": [
    "first_5_win_by_runs.plot.bar(x=\"winner\", y=\"win_by_runs\", rot=70, title=\"Winners by runs\")"
   ]
  },
  {
   "cell_type": "code",
   "execution_count": 78,
   "id": "3f3e88a4",
   "metadata": {},
   "outputs": [
    {
     "data": {
      "text/html": [
       "<div>\n",
       "<style scoped>\n",
       "    .dataframe tbody tr th:only-of-type {\n",
       "        vertical-align: middle;\n",
       "    }\n",
       "\n",
       "    .dataframe tbody tr th {\n",
       "        vertical-align: top;\n",
       "    }\n",
       "\n",
       "    .dataframe thead th {\n",
       "        text-align: right;\n",
       "    }\n",
       "</style>\n",
       "<table border=\"1\" class=\"dataframe\">\n",
       "  <thead>\n",
       "    <tr style=\"text-align: right;\">\n",
       "      <th></th>\n",
       "      <th>winner</th>\n",
       "      <th>win_by_wickets</th>\n",
       "      <th>counts</th>\n",
       "    </tr>\n",
       "  </thead>\n",
       "  <tbody>\n",
       "    <tr>\n",
       "      <th>115</th>\n",
       "      <td>Sunrisers Hyderabad</td>\n",
       "      <td>10</td>\n",
       "      <td>1</td>\n",
       "    </tr>\n",
       "    <tr>\n",
       "      <th>47</th>\n",
       "      <td>Kings XI Punjab</td>\n",
       "      <td>10</td>\n",
       "      <td>1</td>\n",
       "    </tr>\n",
       "    <tr>\n",
       "      <th>32</th>\n",
       "      <td>Delhi Daredevils</td>\n",
       "      <td>10</td>\n",
       "      <td>1</td>\n",
       "    </tr>\n",
       "    <tr>\n",
       "      <th>105</th>\n",
       "      <td>Royal Challengers Bangalore</td>\n",
       "      <td>10</td>\n",
       "      <td>3</td>\n",
       "    </tr>\n",
       "    <tr>\n",
       "      <th>61</th>\n",
       "      <td>Kolkata Knight Riders</td>\n",
       "      <td>10</td>\n",
       "      <td>1</td>\n",
       "    </tr>\n",
       "  </tbody>\n",
       "</table>\n",
       "</div>"
      ],
      "text/plain": [
       "                          winner  win_by_wickets  counts\n",
       "115          Sunrisers Hyderabad              10       1\n",
       "47               Kings XI Punjab              10       1\n",
       "32              Delhi Daredevils              10       1\n",
       "105  Royal Challengers Bangalore              10       3\n",
       "61         Kolkata Knight Riders              10       1"
      ]
     },
     "execution_count": 78,
     "metadata": {},
     "output_type": "execute_result"
    }
   ],
   "source": [
    "wkts=df.groupby(['winner','win_by_wickets']).size().reset_index(name='counts')\n",
    "wkts_sort=wkts.sort_values('win_by_wickets',ascending=False)\n",
    "first_5_win_by_wkts=wkts_sort.head(5)\n",
    "first_5_win_by_wkts"
   ]
  },
  {
   "cell_type": "code",
   "execution_count": 79,
   "id": "bea592f2",
   "metadata": {},
   "outputs": [
    {
     "data": {
      "text/plain": [
       "<AxesSubplot:title={'center':'Winners by wickets'}, xlabel='winner'>"
      ]
     },
     "execution_count": 79,
     "metadata": {},
     "output_type": "execute_result"
    },
    {
     "data": {
      "image/png": "[encoded data removed]",
      "text/plain": [
       "<Figure size 432x288 with 1 Axes>"
      ]
     },
     "metadata": {
      "needs_background": "light"
     },
     "output_type": "display_data"
    }
   ],
   "source": [
    "first_5_win_by_wkts.plot.bar(x=\"winner\", y=\"win_by_wickets\", rot=70, title=\"Winners by wickets\")"
   ]
  },
  {
   "cell_type": "code",
   "execution_count": 80,
   "id": "4e54c333",
   "metadata": {},
   "outputs": [
    {
     "data": {
      "text/html": [
       "<div>\n",
       "<style scoped>\n",
       "    .dataframe tbody tr th:only-of-type {\n",
       "        vertical-align: middle;\n",
       "    }\n",
       "\n",
       "    .dataframe tbody tr th {\n",
       "        vertical-align: top;\n",
       "    }\n",
       "\n",
       "    .dataframe thead th {\n",
       "        text-align: right;\n",
       "    }\n",
       "</style>\n",
       "<table border=\"1\" class=\"dataframe\">\n",
       "  <thead>\n",
       "    <tr style=\"text-align: right;\">\n",
       "      <th></th>\n",
       "      <th>winner</th>\n",
       "      <th>win_by_wickets</th>\n",
       "      <th>counts</th>\n",
       "    </tr>\n",
       "  </thead>\n",
       "  <tbody>\n",
       "    <tr>\n",
       "      <th>105</th>\n",
       "      <td>Royal Challengers Bangalore</td>\n",
       "      <td>10</td>\n",
       "      <td>3</td>\n",
       "    </tr>\n",
       "  </tbody>\n",
       "</table>\n",
       "</div>"
      ],
      "text/plain": [
       "                          winner  win_by_wickets  counts\n",
       "105  Royal Challengers Bangalore              10       3"
      ]
     },
     "execution_count": 80,
     "metadata": {},
     "output_type": "execute_result"
    }
   ],
   "source": [
    "#Which Team had won by maximum wicket?\n",
    "df.iloc[df['win_by_wickets'].idxmax()]\n",
    "count_sorted=first_5_win_by_wkts.sort_values('counts',ascending=False)\n",
    "count_sorted.head(1)                                             "
   ]
  },
  {
   "cell_type": "code",
   "execution_count": 81,
   "id": "bb6434ab",
   "metadata": {},
   "outputs": [
    {
     "data": {
      "image/png": "[encoded data removed]",
      "text/plain": [
       "<Figure size 432x288 with 1 Axes>"
      ]
     },
     "metadata": {
      "needs_background": "light"
     },
     "output_type": "display_data"
    }
   ],
   "source": [
    "#Which Season had most number of matches?\n",
    "sns.countplot(x = 'season',data=df)\n",
    "plt.show()"
   ]
  },
  {
   "cell_type": "code",
   "execution_count": 82,
   "id": "f807a64b",
   "metadata": {},
   "outputs": [
    {
     "data": {
      "text/plain": [
       "False    363\n",
       "True     393\n",
       "dtype: int64"
      ]
     },
     "execution_count": 82,
     "metadata": {},
     "output_type": "execute_result"
    }
   ],
   "source": [
    "# Has Toss-winning helped in winning matches?\n",
    "t = df['toss_winner'] == df['winner']\n",
    "t.groupby(t).size()"
   ]
  }
 ],
 "metadata": {
  "kernelspec": {
   "display_name": "Python 3 (ipykernel)",
   "language": "python",
   "name": "python3"
  },
  "language_info": {
   "codemirror_mode": {
    "name": "ipython",
    "version": 3
   },
   "file_extension": ".py",
   "mimetype": "text/x-python",
   "name": "python",
   "nbconvert_exporter": "python",
   "pygments_lexer": "ipython3",
   "version": "3.9.7"
  }
 },
 "nbformat": 4,
 "nbformat_minor": 5
}
